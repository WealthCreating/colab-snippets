{
  "nbformat": 4,
  "nbformat_minor": 0,
  "metadata": {
    "colab": {
      "name": "SympyInColab.ipynb",
      "version": "0.3.2",
      "provenance": [],
      "include_colab_link": true
    },
    "kernelspec": {
      "name": "python3",
      "display_name": "Python 3"
    }
  },
  "cells": [
    {
      "cell_type": "markdown",
      "metadata": {
        "id": "view-in-github",
        "colab_type": "text"
      },
      "source": [
        "<a href=\"https://colab.research.google.com/github/jakevdp/colab-snippets/blob/master/SympyInColab.ipynb\" target=\"_parent\"><img src=\"https://colab.research.google.com/assets/colab-badge.svg\" alt=\"Open In Colab\"/></a>"
      ]
    },
    {
      "metadata": {
        "id": "9G8w79zS5vG4",
        "colab_type": "text"
      },
      "cell_type": "markdown",
      "source": [
        "# Sympy in Colab Example\n",
        "\n",
        "Rendering sympy equations requires MathJax to be available within each cell output. The following is a function that will make this happen."
      ]
    },
    {
      "metadata": {
        "id": "LcGMeyen43QF",
        "colab_type": "code",
        "colab": {}
      },
      "cell_type": "code",
      "source": [
        "from IPython.display import Math, HTML\n",
        "def enable_sympy_in_cell():\n",
        "  display(HTML(\"<script src='https://cdnjs.cloudflare.com/ajax/libs/mathjax/2.7.3/\"\n",
        "               \"latest.js?config=default'></script>\"))\n",
        "get_ipython().events.register('pre_run_cell', enable_sympy_in_cell)"
      ],
      "execution_count": 0,
      "outputs": []
    },
    {
      "metadata": {
        "id": "pu1gbpMi5_pA",
        "colab_type": "text"
      },
      "cell_type": "markdown",
      "source": [
        "After registering this hook, SymPy rendering will work correctly:\n"
      ]
    },
    {
      "metadata": {
        "id": "llIM2iiJ2k8O",
        "colab_type": "code",
        "colab": {
          "base_uri": "https://localhost:8080/",
          "height": 89
        },
        "outputId": "df2bee5f-13a8-418e-8680-b7e03cb2b6f8"
      },
      "cell_type": "code",
      "source": [
        "import sympy\n",
        "from sympy import *\n",
        "init_printing()\n",
        "\n",
        "x, y, z = symbols('x y z')\n",
        "Integral(sqrt(1/x), (x, 0, oo))"
      ],
      "execution_count": 23,
      "outputs": [
        {
          "output_type": "display_data",
          "data": {
            "text/html": [
              "<script src='https://cdnjs.cloudflare.com/ajax/libs/mathjax/2.7.3/latest.js?config=default'></script>"
            ],
            "text/plain": [
              "<IPython.core.display.HTML object>"
            ]
          },
          "metadata": {
            "tags": []
          }
        },
        {
          "output_type": "execute_result",
          "data": {
            "image/png": "[encoded data removed]",
            "text/latex": "$$\\int_{0}^{\\infty} \\sqrt{\\frac{1}{x}}\\, dx$$",
            "text/plain": [
              "∞           \n",
              "⌠           \n",
              "⎮     ___   \n",
              "⎮    ╱ 1    \n",
              "⎮   ╱  ─  dx\n",
              "⎮ ╲╱   x    \n",
              "⌡           \n",
              "0           "
            ]
          },
          "metadata": {
            "tags": []
          },
          "execution_count": 23
        }
      ]
    }
  ]
}